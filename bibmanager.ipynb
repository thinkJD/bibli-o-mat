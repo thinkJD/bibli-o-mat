{
 "cells": [
  {
   "cell_type": "code",
   "execution_count": 1,
   "id": "81244351-e3dc-41cf-9a06-b6f4494b17db",
   "metadata": {
    "tags": []
   },
   "outputs": [
    {
     "ename": "NameError",
     "evalue": "name 'html_doc' is not defined",
     "output_type": "error",
     "traceback": [
      "\u001b[0;31m---------------------------------------------------------------------------\u001b[0m",
      "\u001b[0;31mNameError\u001b[0m                                 Traceback (most recent call last)",
      "Cell \u001b[0;32mIn[1], line 2\u001b[0m\n\u001b[1;32m      1\u001b[0m \u001b[38;5;28;01mfrom\u001b[39;00m \u001b[38;5;21;01mbs4\u001b[39;00m \u001b[38;5;28;01mimport\u001b[39;00m BeautifulSoup\n\u001b[0;32m----> 2\u001b[0m soup \u001b[38;5;241m=\u001b[39m BeautifulSoup(\u001b[43mhtml_doc\u001b[49m, \u001b[38;5;124m'\u001b[39m\u001b[38;5;124mhtml.parser\u001b[39m\u001b[38;5;124m'\u001b[39m)\n",
      "\u001b[0;31mNameError\u001b[0m: name 'html_doc' is not defined"
     ]
    }
   ],
   "source": [
    "from bs4 import BeautifulSoup\n",
    "\n",
    "soup = BeautifulSoup(html_doc, 'html.parser')"
   ]
  },
  {
   "cell_type": "code",
   "execution_count": 4,
   "id": "72ed279d-a365-4405-b4bb-95d67c0dc4bc",
   "metadata": {
    "collapsed": true,
    "jupyter": {
     "outputs_hidden": true
    },
    "tags": []
   },
   "outputs": [
    {
     "ename": "NameError",
     "evalue": "name 'Response' is not defined",
     "output_type": "error",
     "traceback": [
      "\u001b[0;31m---------------------------------------------------------------------------\u001b[0m",
      "\u001b[0;31mNameError\u001b[0m                                 Traceback (most recent call last)",
      "Cell \u001b[0;32mIn[4], line 5\u001b[0m\n\u001b[1;32m      2\u001b[0m auth_request_body \u001b[38;5;241m=\u001b[39m {\u001b[38;5;124m\"\u001b[39m\u001b[38;5;124mlibraryId\u001b[39m\u001b[38;5;124m\"\u001b[39m:\u001b[38;5;241m8726\u001b[39m,\u001b[38;5;124m\"\u001b[39m\u001b[38;5;124muserId\u001b[39m\u001b[38;5;124m\"\u001b[39m:\u001b[38;5;124m\"\u001b[39m\u001b[38;5;124m10030699516\u001b[39m\u001b[38;5;124m\"\u001b[39m,\u001b[38;5;124m\"\u001b[39m\u001b[38;5;124mpassword\u001b[39m\u001b[38;5;124m\"\u001b[39m:\u001b[38;5;124m\"\u001b[39m\u001b[38;5;124m09.11.2016\u001b[39m\u001b[38;5;124m\"\u001b[39m}\n\u001b[1;32m      4\u001b[0m \u001b[38;5;66;03m### \u001b[39;00m\n\u001b[0;32m----> 5\u001b[0m \u001b[43mResponse\u001b[49m\n\u001b[1;32m      6\u001b[0m {\u001b[38;5;124m\"\u001b[39m\u001b[38;5;124mlibraryId\u001b[39m\u001b[38;5;124m\"\u001b[39m:\u001b[38;5;241m8726\u001b[39m,\u001b[38;5;124m\"\u001b[39m\u001b[38;5;124muserId\u001b[39m\u001b[38;5;124m\"\u001b[39m:\u001b[38;5;124m\"\u001b[39m\u001b[38;5;124m10030699516\u001b[39m\u001b[38;5;124m\"\u001b[39m,\u001b[38;5;124m\"\u001b[39m\u001b[38;5;124msuccess\u001b[39m\u001b[38;5;124m\"\u001b[39m:true,\u001b[38;5;124m\"\u001b[39m\u001b[38;5;124merror\u001b[39m\u001b[38;5;124m\"\u001b[39m:\u001b[38;5;124m\"\u001b[39m\u001b[38;5;124m\"\u001b[39m,\u001b[38;5;124m\"\u001b[39m\u001b[38;5;124mtoken\u001b[39m\u001b[38;5;124m\"\u001b[39m:\u001b[38;5;124m\"\u001b[39m\u001b[38;5;124meyJjdHkiOiJKV1QiLCJhbGciOiJSU0EtT0FFUCIsImVuYyI6IkEyNTZHQ00ifQ.Viue0XAUIOf9UNcJnC7DdQWHVkOD9qeErqxurlXNOd6kUL9ciBjB1l7XkgmuJ1p_KvltbHiQvGbr7l4YaHOTGNEw20AoxrAJwdFqosBrY1RFp3j5C0oWHY6l6c-RX5CawrZ1OvehhT0Iqnj9r3GoWwdoScCAtuQVtlQULN3lwcyoIUAd0GzAvg1JSQJYmftCn6SeeOoTqsI2KK0B5h8BCAxoyp8CmAXGrzaVuN6NiLCzV_LIfrSZLSyotbGkW7f6p2pj_nE-1JZ-dRtbs_8ePgGkZTd0ZIltohUFjN29FY5SwGOAOyUNWk3Q9HwZXqxJ6rrklaLdN4yo_0s1truZeA.r8FTweJqJM2LY7As.n0pSDhTVK3T1bpYtga2fhR6yJIf8idPz_7kGS7A1WQJdOagqxtgwiusm0a8T4i7i61s7QTxmikq9bPj-39Ik3084i87aS7GgWy6zz1T74lAbcay4-4-oUYag1SfJ5GDglUJgxWoFpYTGRftDMBKrun2xKlLEtYXZf-4eg3pS3aIBmIu2rLZp2spaRX4ejlFzZrIgvJjoldP1njHPjhnPFG-rFD9kj0rzQqghlVn9YUR08rVtmR6p4ojZrmJEwvMWqusdP7KavdZeWzNFrc3Ou3MwGBpW9prKV6Zyiz4h7XhpjSXebVXN_1UsvxowQg9226ogaJQ36bpr79l4YKDRJdBcXPIW2AcboZzOl1URYXbBSOsPCmdlflDCZJmimK5H7udSfp6E0yMhQM0_BzLOUQis1xCbTaMn_xWMAxmykP8J8qwWYj4HYyATKeQayah100LcKoRGXPiLGV3i-i9N1v6HZQFPu9Zvj8gg55lA1npsuqwqgQpd2pOYGdc_GX3yf5xahSWDxVwDglC5z4TwZP-Pz0HmrV8zoVtI2C18JqceQHjIj9lXcfhMMu5sy4aQQYmaelcvE1L02g30ORi1Iw8Zdai0xOYYAwyMVXhsX61_xrbM9RBSOEKKctaY0JKPAT7IaKw2OXWzDHCZB45zTf7fhKb8s4E1f0Rg83sx7KZ8BjWGDswEJnEo291eP5oxHa3_z6HFVHvsc5diTSXj3Ep6mmquV7Bq8OFc3QXZGBDj4aDclZ0QIlfPtI_Gj0qMwibn-v0ppbkq4Thi1FtR9v00dhCI1SvuAXdHgFrWOn1yUMbLUEM3OFxraBwRM7sA__b47FHtHzAUIm3JkU9p6_RCVJUAifM68NOUl6qshm-Gw-5eUAojmq9Xig.mkMCwDZwNAe-1FOWlOQ8hg\u001b[39m\u001b[38;5;124m\"\u001b[39m}\n\u001b[1;32m      7\u001b[0m \u001b[38;5;66;03m###\u001b[39;00m\n",
      "\u001b[0;31mNameError\u001b[0m: name 'Response' is not defined"
     ]
    }
   ],
   "source": [
    "auth_url = \"/services/de/metropolcard/auth/login\"\n",
    "auth_request_body = {\"libraryId\":8726,\"userId\":\"10030699516\",\"password\":\"09.11.2016\"}\n",
    "\n",
    "prolong_url = \"metropol-mediensuche.de/services/de/metropolcard/prolongAll\"\n",
    "prolong_request_body = \"{\"libraryId\":8726,\"steps\":[{\"actionId\":0}]}\"\n",
    "\n",
    "# Same endpoint us used if something is to confirm. This is the request body if we click on ok\n",
    "#{\"libraryId\":8726,\"steps\":[{\"actionId\":0},{\"actionId\":2}]}\n",
    "# and so on. Here is the response if its unsuccessfull.\n",
    "# {\"status\":\"OK\",\"actionId\":0,\"info\":[{\"message\":\"Ihre Verlängerung konnte nicht durchgeführt werden.\"}]}\n",
    "\n",
    "\n",
    "{\"libraryId\":8726,\"userId\":\"10030699516\",\"success\":true,\"error\":\"\",\"token\":\"eyJjdHkiOiJKV1QiLCJhbGciOiJSU0EtT0FFUCIsImVuYyI6IkEyNTZHQ00ifQ.Viue0XAUIOf9UNcJnC7DdQWHVkOD9qeErqxurlXNOd6kUL9ciBjB1l7XkgmuJ1p_KvltbHiQvGbr7l4YaHOTGNEw20AoxrAJwdFqosBrY1RFp3j5C0oWHY6l6c-RX5CawrZ1OvehhT0Iqnj9r3GoWwdoScCAtuQVtlQULN3lwcyoIUAd0GzAvg1JSQJYmftCn6SeeOoTqsI2KK0B5h8BCAxoyp8CmAXGrzaVuN6NiLCzV_LIfrSZLSyotbGkW7f6p2pj_nE-1JZ-dRtbs_8ePgGkZTd0ZIltohUFjN29FY5SwGOAOyUNWk3Q9HwZXqxJ6rrklaLdN4yo_0s1truZeA.r8FTweJqJM2LY7As.n0pSDhTVK3T1bpYtga2fhR6yJIf8idPz_7kGS7A1WQJdOagqxtgwiusm0a8T4i7i61s7QTxmikq9bPj-39Ik3084i87aS7GgWy6zz1T74lAbcay4-4-oUYag1SfJ5GDglUJgxWoFpYTGRftDMBKrun2xKlLEtYXZf-4eg3pS3aIBmIu2rLZp2spaRX4ejlFzZrIgvJjoldP1njHPjhnPFG-rFD9kj0rzQqghlVn9YUR08rVtmR6p4ojZrmJEwvMWqusdP7KavdZeWzNFrc3Ou3MwGBpW9prKV6Zyiz4h7XhpjSXebVXN_1UsvxowQg9226ogaJQ36bpr79l4YKDRJdBcXPIW2AcboZzOl1URYXbBSOsPCmdlflDCZJmimK5H7udSfp6E0yMhQM0_BzLOUQis1xCbTaMn_xWMAxmykP8J8qwWYj4HYyATKeQayah100LcKoRGXPiLGV3i-i9N1v6HZQFPu9Zvj8gg55lA1npsuqwqgQpd2pOYGdc_GX3yf5xahSWDxVwDglC5z4TwZP-Pz0HmrV8zoVtI2C18JqceQHjIj9lXcfhMMu5sy4aQQYmaelcvE1L02g30ORi1Iw8Zdai0xOYYAwyMVXhsX61_xrbM9RBSOEKKctaY0JKPAT7IaKw2OXWzDHCZB45zTf7fhKb8s4E1f0Rg83sx7KZ8BjWGDswEJnEo291eP5oxHa3_z6HFVHvsc5diTSXj3Ep6mmquV7Bq8OFc3QXZGBDj4aDclZ0QIlfPtI_Gj0qMwibn-v0ppbkq4Thi1FtR9v00dhCI1SvuAXdHgFrWOn1yUMbLUEM3OFxraBwRM7sA__b47FHtHzAUIm3JkU9p6_RCVJUAifM68NOUl6qshm-Gw-5eUAojmq9Xig.mkMCwDZwNAe-1FOWlOQ8hg\"}\n"
   ]
  },
  {
   "cell_type": "code",
   "execution_count": null,
   "id": "26925d41-7f2e-4827-88cf-5e3a1500ebf6",
   "metadata": {},
   "outputs": [],
   "source": []
  },
  {
   "cell_type": "code",
   "execution_count": null,
   "id": "f4440f22-1816-4c94-9069-b5ca8c6145c2",
   "metadata": {},
   "outputs": [],
   "source": []
  }
 ],
 "metadata": {
  "kernelspec": {
   "display_name": "Python 3 (ipykernel)",
   "language": "python",
   "name": "python3"
  },
  "language_info": {
   "codemirror_mode": {
    "name": "ipython",
    "version": 3
   },
   "file_extension": ".py",
   "mimetype": "text/x-python",
   "name": "python",
   "nbconvert_exporter": "python",
   "pygments_lexer": "ipython3",
   "version": "3.10.4"
  }
 },
 "nbformat": 4,
 "nbformat_minor": 5
}
