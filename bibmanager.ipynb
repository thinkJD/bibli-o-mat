{
 "cells": [
  {
   "cell_type": "code",
   "execution_count": null,
   "id": "81244351-e3dc-41cf-9a06-b6f4494b17db",
   "metadata": {
    "tags": []
   },
   "outputs": [],
   "source": [
    "import requests\n",
    "from tinydb import TinyDB, Query\n",
    "import time\n",
    "\n",
    "class CredentialHelper():\n",
    "    def __init__(self):\n",
    "        self.db = TinyDB('db.json')\n",
    "        \n",
    "    def renew_token(self, card_number:str, password:str, lib_id:int=8726):\n",
    "        try:\n",
    "            r_url  = 'https://metropol-mediensuche.de/services/de/metropolcard/auth/login'\n",
    "            r_body = {\"libraryId\":lib_id, \"userId\":card_number,\"password\":password}\n",
    "            r = requests.post(r_url, json=r_body)\n",
    "        except HTTPError as http_err:\n",
    "            print(f'HTTP error occurred: {http_err}')\n",
    "        except Exception as err:\n",
    "            print(f'Other error occurred: {err}') \n",
    "        return r.json()\n",
    "    \n",
    "    def get_credentials(self):\n",
    "        cred = Query()\n",
    "        print(self.db.search(cred.user_id.exists()))\n",
    "\n",
    "    def add_user(self, user_id, password):\n",
    "        token = self.renew_token(card_number=user_id, password=password)['token']\n",
    "        self.db.insert({'user_id': user_id, 'password': password, 'token': token, 'last_refresh': str(time.time())})\n",
    "\n",
    "\n",
    "ch = CredentialHelper()\n",
    "#ch.add_user(\"card_nr\", \"pass\")\n",
    "ch.get_credentials()\n"
   ]
  },
  {
   "cell_type": "code",
   "execution_count": null,
   "id": "54133cfe-2d98-4fde-87d6-e675303d21ba",
   "metadata": {
    "tags": []
   },
   "outputs": [],
   "source": []
  },
  {
   "cell_type": "code",
   "execution_count": null,
   "id": "bb481b86-c206-4328-a099-6342a13a4433",
   "metadata": {
    "tags": []
   },
   "outputs": [],
   "source": [
    "import requests\n",
    "\n",
    "auth_url = \n",
    "auth_request_body = {\"libraryId\":8726,\"userId\":\"10030699516\",\"password\":\"09.11.2016\"}\n",
    "\n",
    "r = requests.post(auth_url, json=auth_request_body)\n",
    "\n",
    "\n",
    "print(r.json())\n"
   ]
  },
  {
   "cell_type": "code",
   "execution_count": null,
   "id": "f05d6d29-41bd-4222-9c84-b62b7d6429b3",
   "metadata": {
    "tags": []
   },
   "outputs": [],
   "source": [
    "# Load token and get account info\n",
    "import requests\n",
    "import json\n",
    "\n",
    "def load_token():\n",
    "    with open('sample.json', 'r') as f:\n",
    "        token = json.loads(f.read())\n",
    "        return token['token']\n",
    "    return \"\"\n",
    "\n",
    "info_url = \"https://metropol-mediensuche.de/services/de/metropolcard/account/info\"\n",
    "request_headers={'Authorization': f'Bearer {load_token()}'}\n",
    "\n",
    "r = requests.get(info_url, headers=request_headers)\n",
    "\n",
    "\n",
    "\n"
   ]
  },
  {
   "cell_type": "code",
   "execution_count": null,
   "id": "08db9466-feab-4e5c-9bed-579cb1c74a8a",
   "metadata": {
    "tags": []
   },
   "outputs": [],
   "source": [
    "for val in r.json()['lent']:\n",
    "    print (val['title'])\n",
    "\n"
   ]
  },
  {
   "cell_type": "code",
   "execution_count": null,
   "id": "f4440f22-1816-4c94-9069-b5ca8c6145c2",
   "metadata": {},
   "outputs": [],
   "source": []
  }
 ],
 "metadata": {
  "kernelspec": {
   "display_name": "Python 3 (ipykernel)",
   "language": "python",
   "name": "python3"
  },
  "language_info": {
   "codemirror_mode": {
    "name": "ipython",
    "version": 3
   },
   "file_extension": ".py",
   "mimetype": "text/x-python",
   "name": "python",
   "nbconvert_exporter": "python",
   "pygments_lexer": "ipython3",
   "version": "3.10.4"
  }
 },
 "nbformat": 4,
 "nbformat_minor": 5
}
